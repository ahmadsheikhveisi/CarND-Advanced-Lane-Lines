{
 "cells": [
  {
   "cell_type": "markdown",
   "metadata": {},
   "source": [
    "## Camera Calibration"
   ]
  },
  {
   "cell_type": "markdown",
   "metadata": {},
   "source": [
    "### Helper functions"
   ]
  },
  {
   "cell_type": "code",
   "execution_count": 3,
   "metadata": {
    "collapsed": true
   },
   "outputs": [],
   "source": [
    "import numpy as np\n",
    "import cv2\n",
    "import glob\n",
    "import matplotlib.pyplot as plt\n",
    "import os\n",
    "import pickle\n",
    "\n",
    "def store_img(img,dstfldr,filename,extra):\n",
    "    if filename is '':\n",
    "        return\n",
    "    if dstfldr != '':\n",
    "        dstfldr = \"output_images\" + '/' + dstfldr\n",
    "    else:\n",
    "        dstfldr = 'output_images'\n",
    "    (head, tail) = os.path.split(filename)\n",
    "    (root, ext) = os.path.splitext(tail)\n",
    "    new_filename = os.path.join(dstfldr, root + extra + \".jpg\")\n",
    "    cv2.imwrite(new_filename, img)\n",
    "\n",
    "# from https://stackoverflow.com/questions/42420470/opencv-subplots-images-with-titles-and-space-around-borders\n",
    "def cvSubplot(imgs,     # 2d np array of imgs (each img an np arrays of depth 1 or 3).\n",
    "              pad=50,   # number of pixels to use for padding between images. must be even\n",
    "              titles=None,  # (optional) np array of subplot titles\n",
    "              ):\n",
    "    '''\n",
    "    Makes cv2 based subplots. Useful to plot image in actual pixel size\n",
    "    '''\n",
    "    rows = np.shape(imgs)[0]\n",
    "    cols = np.shape(imgs)[1]\n",
    "\n",
    "    subplot_shapes = np.array([list(map(np.shape, x)) for x in imgs])\n",
    "    sp_height, sp_width, depth = np.max(np.max(subplot_shapes, axis=0), axis=0)\n",
    "\n",
    "    title_pad = 50\n",
    "    if titles is not None:\n",
    "        pad_top = pad + title_pad\n",
    "    else:\n",
    "        pad_top = pad\n",
    "\n",
    "    frame = np.ones((rows*(sp_height+pad_top), cols*(sp_width+pad), depth )) * 255\n",
    "\n",
    "    for r in range(rows):\n",
    "        for c in range(cols):\n",
    "            img = imgs[r, c]\n",
    "            h, w, _ = img.shape\n",
    "            y0 = r * (sp_height+pad_top) + pad_top//2\n",
    "            x0 = c * (sp_width+pad) + pad//2\n",
    "            frame[y0:y0+h, x0:x0+w, :] = img\n",
    "\n",
    "            if titles is not None:\n",
    "                frame = cv2.putText(frame, titles[r, c], (x0 + w//2, y0-title_pad//4), cv2.FONT_HERSHEY_SIMPLEX, 1, (0,0,0),2)\n",
    "\n",
    "    return frame\n",
    "    \n",
    "def undist(img, mtx, dist, filename = '',dstfldr = ''):\n",
    "    \n",
    "    img_size = (img.shape[1],img.shape[0])\n",
    "    #print(\"image_size \",img_size)\n",
    "    # Distortion Correction\n",
    "    undist = cv2.undistort(img,mtx,dist,None,mtx)\n",
    "    imgs = np.array([[img,undist]])\n",
    "    ttls = np.array([['original','undistorted']])\n",
    "    store_img(cvSubplot(imgs,titles=ttls),dstfldr,filename,\"_undistorted\")   \n",
    "    \n",
    "    return undist \n",
    "\n",
    "def unwarp(img, src, dst, filename = '',dstfldr=''):\n",
    "    \n",
    "    img_size = (img.shape[1],img.shape[0])\n",
    "    \n",
    "    M = cv2.getPerspectiveTransform(src, dst)\n",
    "    Minv = cv2.getPerspectiveTransform(dst, src)\n",
    "    warped = cv2.warpPerspective(img, M, img_size, flags=cv2.INTER_LINEAR)\n",
    "    \n",
    "    imgs = np.array([[img,warped]])\n",
    "    ttls = np.array([['original','warped']])\n",
    "    store_img(cvSubplot(imgs,titles=ttls),dstfldr,fname,\"_warped\")  \n",
    "    \n",
    "    return warped, M, Minv"
   ]
  },
  {
   "cell_type": "markdown",
   "metadata": {},
   "source": [
    "### Getting the object and image points"
   ]
  },
  {
   "cell_type": "code",
   "execution_count": 4,
   "metadata": {},
   "outputs": [],
   "source": [
    "\n",
    "\n",
    "nx = 9\n",
    "ny = 6\n",
    "camera_image_size = cv2.cvtColor(cv2.imread(\"test_images/test1.jpg\"),cv2.COLOR_BGR2GRAY).shape\n",
    "#print(camera_image_size)\n",
    "\n",
    "# prepare object points, like (0,0,0), (1,0,0), (2,0,0) ....,(6,5,0)\n",
    "objp = np.zeros((nx*ny,3), np.float32)\n",
    "objp[:,:2] = np.mgrid[0:nx,0:ny].T.reshape(-1,2)\n",
    "\n",
    "# Arrays to store object points and image points from all the images.\n",
    "objpoints = [] # 3d points in real world space\n",
    "imgpoints = [] # 2d points in image plane.\n",
    "\n",
    "# Make a list of calibration images\n",
    "calib_images = glob.glob('camera_cal/calibration*.jpg')\n",
    "\n",
    "# Step through the list and search for chessboard corners\n",
    "for fname in calib_images:\n",
    "    img = cv2.imread(fname)\n",
    "    gray = cv2.cvtColor(img,cv2.COLOR_BGR2GRAY)\n",
    "\n",
    "    # Find the chessboard corners\n",
    "    ret, corners = cv2.findChessboardCorners(gray, (nx,ny),None)\n",
    "\n",
    "    # If found, add object points, image points\n",
    "    if ret == True:\n",
    "        objpoints.append(objp)\n",
    "        imgpoints.append(corners)\n",
    "\n",
    "        # Draw and display the corners\n",
    "        img_corners = cv2.drawChessboardCorners(img, (nx,ny), corners, ret)\n",
    "        store_img(img_corners,\"CameraCalibration/Corners\",fname,\"_corners\")\n",
    "points_pickle = {\"objpoints\":objpoints,\"imgpoints\":imgpoints}\n",
    "with open('ObjImagePoints_pickle.pickle', 'wb') as f:\n",
    "    pickle.dump(points_pickle, f)\n"
   ]
  },
  {
   "cell_type": "markdown",
   "metadata": {},
   "source": [
    "### Calculating the camera matrix and distortion coefficients"
   ]
  },
  {
   "cell_type": "code",
   "execution_count": 5,
   "metadata": {},
   "outputs": [],
   "source": [
    "ret, mtx, dist, rvecs, tvecs = cv2.calibrateCamera(objpoints,imgpoints,(camera_image_size[1],camera_image_size[0]),None,None)\n",
    "\n",
    "dist_pickle = {\"camMtrx\":mtx,\"distCoe\":dist}\n",
    "with open('CameraMatrix_DistrotionCoefficients.pickle', 'wb') as f:\n",
    "    pickle.dump(dist_pickle, f)\n",
    "\n",
    "for index,fname in enumerate(calib_images):\n",
    "    undist_image = undist(cv2.imread(fname),mtx,dist,fname,\"CameraCalibration/Undistorted\")\n",
    "    # Convert to gray-scale\n",
    "    gray = cv2.cvtColor(undist_image, cv2.COLOR_BGR2GRAY)\n",
    "    # Find the chessboard corners\n",
    "    ret, corners = cv2.findChessboardCorners(gray, (nx, ny), None)\n",
    "    if (ret == True):\n",
    "        cv2.drawChessboardCorners(undist_image, (nx, ny), corners, ret)\n",
    "        #print(\"CORNERS \",corners)\n",
    "        src = np.float32([corners[0],corners[nx-1],corners[((ny-1)*nx)],corners[(nx*ny)-1]])\n",
    "        #print(\"SRC\",src)\n",
    "        dst = np.float32([[100,100],[1200,100],[100,600],[1200,600]])\n",
    "        warped_image = unwarp(undist_image,src,dst,fname,\"CameraCalibration/Warped\")"
   ]
  },
  {
   "cell_type": "markdown",
   "metadata": {
    "collapsed": true
   },
   "source": [
    "### Applying the distortion correction to the test images"
   ]
  },
  {
   "cell_type": "code",
   "execution_count": 6,
   "metadata": {},
   "outputs": [],
   "source": [
    "dist_pickle = pickle.load( open( \"CameraMatrix_DistrotionCoefficients.pickle\", \"rb\" ) )\n",
    "p_mtx = dist_pickle[\"camMtrx\"]\n",
    "p_dist = dist_pickle[\"distCoe\"]\n",
    "\n",
    "test_images = os.listdir(\"test_images/\")\n",
    "for img in test_images:\n",
    "    img = \"test_images/\" + img\n",
    "    undist_image = undist(cv2.imread(img),p_mtx,p_dist,img)"
   ]
  },
  {
   "cell_type": "code",
   "execution_count": null,
   "metadata": {
    "collapsed": true
   },
   "outputs": [],
   "source": []
  }
 ],
 "metadata": {
  "kernelspec": {
   "display_name": "Python [conda env:carnd-term1]",
   "language": "python",
   "name": "conda-env-carnd-term1-py"
  },
  "language_info": {
   "codemirror_mode": {
    "name": "ipython",
    "version": 3
   },
   "file_extension": ".py",
   "mimetype": "text/x-python",
   "name": "python",
   "nbconvert_exporter": "python",
   "pygments_lexer": "ipython3",
   "version": "3.6.2"
  }
 },
 "nbformat": 4,
 "nbformat_minor": 2
}
